{
 "cells": [
  {
   "cell_type": "code",
   "execution_count": null,
   "metadata": {
    "id": "Oc3duUC8USYT"
   },
   "outputs": [],
   "source": [
    "import torch\n",
    "import torch.nn as nn\n",
    "import numpy as np\n",
    "\n",
    "# Tensor用にdtypeとdeviceを定義\n",
    "dtype = torch.float\n",
    "device = torch.device(\"cuda:0\" if torch.cuda.is_available() else \"cpu\")"
   ]
  },
  {
   "cell_type": "markdown",
   "metadata": {
    "id": "eKrW7gRPUSYY"
   },
   "source": [
    "### 課題\n",
    "- 以下の関数cross_entropy_lossを完成させましょう\n",
    "- pytorchにおいてはlnはtorch.logを使います。\n",
    "![fig3.png](fig3.png)"
   ]
  },
  {
   "cell_type": "code",
   "execution_count": null,
   "metadata": {
    "id": "jh_t2-4vUSYZ"
   },
   "outputs": [],
   "source": [
    "def cross_entropy_loss(x, t):\n",
    "    return -torch.[A](torch.[B](x) * t, dim=1) "
   ]
  },
  {
   "cell_type": "markdown",
   "metadata": {
    "id": "Sk96HSHiUSYZ"
   },
   "source": [
    "### 課題の確認\n",
    "- 上記cross_entropy_loss関数が正しい結果を出力できているかを確認しましょう"
   ]
  },
  {
   "cell_type": "code",
   "execution_count": null,
   "metadata": {
    "id": "IHr1KyfnUSYa"
   },
   "outputs": [],
   "source": [
    "torch.manual_seed(0)\n",
    "x = torch.rand(2, 5)\n",
    "print(\"モデルの出力\", x)\n",
    "\n",
    "t = torch.randint(0, 5, (2,))\n",
    "t = torch.nn.functional.one_hot(t, num_classes=5)\n",
    "print(\"正解データ\", t)\n",
    "t=t.to(dtype)\n",
    "\n",
    "loss = cross_entropy_loss(x, t)\n",
    "print(\"ロス値\", loss)"
   ]
  }
 ],
 "metadata": {
  "colab": {
   "name": "final_演習1.3.ipynb",
   "provenance": []
  },
  "kernelspec": {
   "display_name": "Python 3 (ipykernel)",
   "language": "python",
   "name": "python3"
  },
  "language_info": {
   "codemirror_mode": {
    "name": "ipython",
    "version": 3
   },
   "file_extension": ".py",
   "mimetype": "text/x-python",
   "name": "python",
   "nbconvert_exporter": "python",
   "pygments_lexer": "ipython3",
   "version": "3.9.12"
  }
 },
 "nbformat": 4,
 "nbformat_minor": 4
}
